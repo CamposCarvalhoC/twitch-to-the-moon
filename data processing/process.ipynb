{
 "cells": [
  {
   "cell_type": "code",
   "execution_count": null,
   "metadata": {},
   "outputs": [],
   "source": [
    "import pandas as pd\n",
    "import numpy as np"
   ]
  },
  {
   "cell_type": "code",
   "execution_count": null,
   "metadata": {},
   "outputs": [],
   "source": [
    "game_df = pd.read_csv(\"raw_data/Twitch_game_data.csv\")\n",
    "global_df = pd.read_csv(\"raw_data/Twitch_global_data.csv\")\n",
    "streamers_df = pd.read_csv(\"raw_data/twitchdata-update.csv\")"
   ]
  },
  {
   "cell_type": "code",
   "execution_count": null,
   "metadata": {},
   "outputs": [],
   "source": [
    "def dateToDateTime(dataframe):\n",
    "    df = dataframe.copy()\n",
    "    df[\"day\"] = 1\n",
    "    df = df.set_index(pd.to_datetime(df[[\"year\", \"Month\", \"day\"]]))\n",
    "    df = df.drop([\"year\", \"Month\", \"day\"], axis=1)\n",
    "    return df"
   ]
  },
  {
   "cell_type": "markdown",
   "metadata": {},
   "source": [
    "## Global viewers chart"
   ]
  },
  {
   "cell_type": "code",
   "execution_count": null,
   "metadata": {},
   "outputs": [],
   "source": [
    "Viewers = global_df[[\"year\",\"Month\",\"Avg_viewers\"]]"
   ]
  },
  {
   "cell_type": "code",
   "execution_count": null,
   "metadata": {},
   "outputs": [],
   "source": [
    "Viewers = dateToDateTime(Viewers)"
   ]
  },
  {
   "cell_type": "code",
   "execution_count": null,
   "metadata": {},
   "outputs": [],
   "source": [
    "Viewers.to_csv(\"data/global_viewers.csv\")"
   ]
  },
  {
   "cell_type": "markdown",
   "metadata": {},
   "source": [
    "## Games views for ridgeplot"
   ]
  },
  {
   "cell_type": "code",
   "execution_count": null,
   "metadata": {},
   "outputs": [],
   "source": [
    "game_df.drop(game_df[game_df[\"Game\"] == \"Just Chatting\"].index, inplace=True)"
   ]
  },
  {
   "cell_type": "code",
   "execution_count": null,
   "metadata": {},
   "outputs": [],
   "source": [
    "game_df.drop(columns=[\"Rank\",\"Hours_watched\",\"Hours_Streamed\",\"Peak_viewers\",\"Peak_channels\",\"Streamers\",\"Avg_channels\",\"Avg_viewer_ratio\"] ,inplace=True)"
   ]
  },
  {
   "cell_type": "code",
   "execution_count": null,
   "metadata": {},
   "outputs": [],
   "source": [
    "game_df[\"day\"] = 1\n",
    "game_df[\"date\"] = pd.to_datetime(game_df[[\"Year\", \"Month\", \"day\"]])\n",
    "game_df = game_df.drop([\"Year\", \"Month\", \"day\"], axis=1)"
   ]
  },
  {
   "cell_type": "code",
   "execution_count": null,
   "metadata": {},
   "outputs": [],
   "source": [
    "top_games = game_df.groupby(['Game'])['Avg_viewers'].sum().sort_values(ascending=False)[:10].index.to_list()"
   ]
  },
  {
   "cell_type": "code",
   "execution_count": null,
   "metadata": {},
   "outputs": [],
   "source": [
    "games = []\n",
    "\n",
    "for game in top_games:\n",
    "    games.append(game_df[game_df[\"Game\"] == game])"
   ]
  },
  {
   "cell_type": "code",
   "execution_count": null,
   "metadata": {},
   "outputs": [],
   "source": [
    "for g in games:\n",
    "    g.rename(columns={\"Avg_viewers\" : g.iloc[0][\"Game\"]},inplace=True)\n",
    "    g.drop(columns=\"Game\", inplace=True)"
   ]
  },
  {
   "cell_type": "code",
   "execution_count": null,
   "metadata": {},
   "outputs": [],
   "source": [
    "from functools import reduce\n",
    "\n",
    "pd.concat(games)\n",
    "\n",
    "top_games_avg_viewers = reduce(lambda  left,right: pd.merge(left,right, on=\"date\", how=\"outer\"), games).fillna(0)"
   ]
  },
  {
   "cell_type": "code",
   "execution_count": null,
   "metadata": {},
   "outputs": [],
   "source": [
    "top_games_avg_viewers.to_csv(\"data/top_games_viewers.csv\")"
   ]
  },
  {
   "cell_type": "markdown",
   "metadata": {},
   "source": [
    "for i,game in enumerate(games):\n",
    "    game.to_csv(\"data/\"+ games[i][\"Game\"].iloc[0] +\".csv\")"
   ]
  }
 ],
 "metadata": {
  "interpreter": {
   "hash": "9fd93541ce5ead8a2d008390b52c9b2a3126e1d73616ea8050a8e3f3dcd76c5d"
  },
  "kernelspec": {
   "display_name": "Python 3.9.5 64-bit ('.env': venv)",
   "language": "python",
   "name": "python3"
  },
  "language_info": {
   "codemirror_mode": {
    "name": "ipython",
    "version": 3
   },
   "file_extension": ".py",
   "mimetype": "text/x-python",
   "name": "python",
   "nbconvert_exporter": "python",
   "pygments_lexer": "ipython3",
   "version": "3.8.2"
  },
  "orig_nbformat": 4
 },
 "nbformat": 4,
 "nbformat_minor": 2
}

{
 "cells": [
  {
   "cell_type": "code",
   "execution_count": 35,
   "metadata": {},
   "outputs": [],
   "source": [
    "import pandas as pd\n",
    "import numpy as np"
   ]
  },
  {
   "cell_type": "code",
   "execution_count": 36,
   "metadata": {},
   "outputs": [],
   "source": [
    "game_df = pd.read_csv(\"raw_data/Twitch_game_data.csv\")\n",
    "global_df = pd.read_csv(\"raw_data/Twitch_global_data.csv\")\n",
    "streamers_df = pd.read_csv(\"raw_data/twitchdata-update.csv\")"
   ]
  },
  {
   "cell_type": "code",
   "execution_count": 37,
   "metadata": {},
   "outputs": [],
   "source": [
    "def dateToDateTime(dataframe):\n",
    "    df = dataframe.copy()\n",
    "    df[\"day\"] = 1\n",
    "    df = df.set_index(pd.to_datetime(df[[\"year\", \"Month\", \"day\"]]))\n",
    "    df = df.drop([\"year\", \"Month\", \"day\"], axis=1)\n",
    "    return df"
   ]
  },
  {
   "cell_type": "markdown",
   "metadata": {},
   "source": [
    "## Global viewers chart"
   ]
  },
  {
   "cell_type": "code",
   "execution_count": 38,
   "metadata": {},
   "outputs": [],
   "source": [
    "Viewers = global_df[[\"year\",\"Month\",\"Avg_viewers\"]]"
   ]
  },
  {
   "cell_type": "code",
   "execution_count": 39,
   "metadata": {},
   "outputs": [],
   "source": [
    "Viewers = dateToDateTime(Viewers)"
   ]
  },
  {
   "cell_type": "code",
   "execution_count": 40,
   "metadata": {},
   "outputs": [],
   "source": [
    "Viewers.to_csv(\"data/global_viewers.csv\")"
   ]
  },
  {
   "cell_type": "markdown",
   "metadata": {},
   "source": [
    "## Games views for ridgeplot"
   ]
  },
  {
   "cell_type": "code",
   "execution_count": 41,
   "metadata": {},
   "outputs": [],
   "source": [
    "game_df.drop(game_df[game_df[\"Game\"] == \"Just Chatting\"].index, inplace=True)"
   ]
  },
  {
   "cell_type": "code",
   "execution_count": 42,
   "metadata": {},
   "outputs": [],
   "source": [
    "top_games = game_df.groupby(['Game'])['Avg_viewers'].sum().sort_values(ascending=False)[:10].index.to_list()"
   ]
  },
  {
   "cell_type": "code",
   "execution_count": 43,
   "metadata": {},
   "outputs": [],
   "source": [
    "games = []\n",
    "\n",
    "for game in top_games:\n",
    "    games.append(game_df[game_df[\"Game\"] == game])\n",
    "\n",
    "games = pd.concat(games)"
   ]
  },
  {
   "cell_type": "code",
   "execution_count": 44,
   "metadata": {},
   "outputs": [
    {
     "data": {
      "text/html": [
       "<div>\n",
       "<style scoped>\n",
       "    .dataframe tbody tr th:only-of-type {\n",
       "        vertical-align: middle;\n",
       "    }\n",
       "\n",
       "    .dataframe tbody tr th {\n",
       "        vertical-align: top;\n",
       "    }\n",
       "\n",
       "    .dataframe thead th {\n",
       "        text-align: right;\n",
       "    }\n",
       "</style>\n",
       "<table border=\"1\" class=\"dataframe\">\n",
       "  <thead>\n",
       "    <tr style=\"text-align: right;\">\n",
       "      <th></th>\n",
       "      <th>Rank</th>\n",
       "      <th>Game</th>\n",
       "      <th>Hours_watched</th>\n",
       "      <th>Hours_Streamed</th>\n",
       "      <th>Peak_viewers</th>\n",
       "      <th>Peak_channels</th>\n",
       "      <th>Streamers</th>\n",
       "      <th>Avg_viewers</th>\n",
       "      <th>Avg_channels</th>\n",
       "      <th>Avg_viewer_ratio</th>\n",
       "      <th>date</th>\n",
       "    </tr>\n",
       "  </thead>\n",
       "  <tbody>\n",
       "    <tr>\n",
       "      <th>0</th>\n",
       "      <td>1</td>\n",
       "      <td>League of Legends</td>\n",
       "      <td>94377226</td>\n",
       "      <td>1362044 hours</td>\n",
       "      <td>530270</td>\n",
       "      <td>2903</td>\n",
       "      <td>129172</td>\n",
       "      <td>127021</td>\n",
       "      <td>1833</td>\n",
       "      <td>69.29</td>\n",
       "      <td>2016-01-01</td>\n",
       "    </tr>\n",
       "    <tr>\n",
       "      <th>200</th>\n",
       "      <td>1</td>\n",
       "      <td>League of Legends</td>\n",
       "      <td>93154772</td>\n",
       "      <td>1266715 hours</td>\n",
       "      <td>475784</td>\n",
       "      <td>2712</td>\n",
       "      <td>117996</td>\n",
       "      <td>134035</td>\n",
       "      <td>1822</td>\n",
       "      <td>73.54</td>\n",
       "      <td>2016-02-01</td>\n",
       "    </tr>\n",
       "    <tr>\n",
       "      <th>400</th>\n",
       "      <td>1</td>\n",
       "      <td>League of Legends</td>\n",
       "      <td>94514511</td>\n",
       "      <td>1264029 hours</td>\n",
       "      <td>599114</td>\n",
       "      <td>2585</td>\n",
       "      <td>117734</td>\n",
       "      <td>127206</td>\n",
       "      <td>1701</td>\n",
       "      <td>74.77</td>\n",
       "      <td>2016-03-01</td>\n",
       "    </tr>\n",
       "    <tr>\n",
       "      <th>600</th>\n",
       "      <td>1</td>\n",
       "      <td>League of Legends</td>\n",
       "      <td>88389049</td>\n",
       "      <td>1217250 hours</td>\n",
       "      <td>553165</td>\n",
       "      <td>2945</td>\n",
       "      <td>113251</td>\n",
       "      <td>122933</td>\n",
       "      <td>1692</td>\n",
       "      <td>72.61</td>\n",
       "      <td>2016-04-01</td>\n",
       "    </tr>\n",
       "    <tr>\n",
       "      <th>800</th>\n",
       "      <td>1</td>\n",
       "      <td>League of Legends</td>\n",
       "      <td>80679320</td>\n",
       "      <td>1196096 hours</td>\n",
       "      <td>433005</td>\n",
       "      <td>2635</td>\n",
       "      <td>118593</td>\n",
       "      <td>108585</td>\n",
       "      <td>1609</td>\n",
       "      <td>67.45</td>\n",
       "      <td>2016-05-01</td>\n",
       "    </tr>\n",
       "    <tr>\n",
       "      <th>...</th>\n",
       "      <td>...</td>\n",
       "      <td>...</td>\n",
       "      <td>...</td>\n",
       "      <td>...</td>\n",
       "      <td>...</td>\n",
       "      <td>...</td>\n",
       "      <td>...</td>\n",
       "      <td>...</td>\n",
       "      <td>...</td>\n",
       "      <td>...</td>\n",
       "      <td>...</td>\n",
       "    </tr>\n",
       "    <tr>\n",
       "      <th>13004</th>\n",
       "      <td>5</td>\n",
       "      <td>VALORANT</td>\n",
       "      <td>80581440</td>\n",
       "      <td>3217503 hours</td>\n",
       "      <td>252386</td>\n",
       "      <td>7691</td>\n",
       "      <td>277299</td>\n",
       "      <td>112074</td>\n",
       "      <td>4474</td>\n",
       "      <td>25.04</td>\n",
       "      <td>2021-06-01</td>\n",
       "    </tr>\n",
       "    <tr>\n",
       "      <th>13203</th>\n",
       "      <td>4</td>\n",
       "      <td>VALORANT</td>\n",
       "      <td>80880189</td>\n",
       "      <td>3289089 hours</td>\n",
       "      <td>296686</td>\n",
       "      <td>6844</td>\n",
       "      <td>287260</td>\n",
       "      <td>108856</td>\n",
       "      <td>4426</td>\n",
       "      <td>24.59</td>\n",
       "      <td>2021-07-01</td>\n",
       "    </tr>\n",
       "    <tr>\n",
       "      <th>13405</th>\n",
       "      <td>6</td>\n",
       "      <td>VALORANT</td>\n",
       "      <td>77525514</td>\n",
       "      <td>3085069 hours</td>\n",
       "      <td>294465</td>\n",
       "      <td>6435</td>\n",
       "      <td>272547</td>\n",
       "      <td>104341</td>\n",
       "      <td>4152</td>\n",
       "      <td>25.13</td>\n",
       "      <td>2021-08-01</td>\n",
       "    </tr>\n",
       "    <tr>\n",
       "      <th>13603</th>\n",
       "      <td>4</td>\n",
       "      <td>VALORANT</td>\n",
       "      <td>92393642</td>\n",
       "      <td>2972494 hours</td>\n",
       "      <td>732010</td>\n",
       "      <td>7148</td>\n",
       "      <td>257779</td>\n",
       "      <td>128502</td>\n",
       "      <td>4134</td>\n",
       "      <td>31.08</td>\n",
       "      <td>2021-09-01</td>\n",
       "    </tr>\n",
       "    <tr>\n",
       "      <th>13807</th>\n",
       "      <td>8</td>\n",
       "      <td>VALORANT</td>\n",
       "      <td>64164553</td>\n",
       "      <td>2715437 hours</td>\n",
       "      <td>261799</td>\n",
       "      <td>5597</td>\n",
       "      <td>230732</td>\n",
       "      <td>86358</td>\n",
       "      <td>3654</td>\n",
       "      <td>23.63</td>\n",
       "      <td>2021-10-01</td>\n",
       "    </tr>\n",
       "  </tbody>\n",
       "</table>\n",
       "<p>588 rows × 11 columns</p>\n",
       "</div>"
      ],
      "text/plain": [
       "       Rank               Game  Hours_watched Hours_Streamed  Peak_viewers  \\\n",
       "0         1  League of Legends       94377226  1362044 hours        530270   \n",
       "200       1  League of Legends       93154772  1266715 hours        475784   \n",
       "400       1  League of Legends       94514511  1264029 hours        599114   \n",
       "600       1  League of Legends       88389049  1217250 hours        553165   \n",
       "800       1  League of Legends       80679320  1196096 hours        433005   \n",
       "...     ...                ...            ...            ...           ...   \n",
       "13004     5           VALORANT       80581440  3217503 hours        252386   \n",
       "13203     4           VALORANT       80880189  3289089 hours        296686   \n",
       "13405     6           VALORANT       77525514  3085069 hours        294465   \n",
       "13603     4           VALORANT       92393642  2972494 hours        732010   \n",
       "13807     8           VALORANT       64164553  2715437 hours        261799   \n",
       "\n",
       "       Peak_channels  Streamers  Avg_viewers  Avg_channels  Avg_viewer_ratio  \\\n",
       "0               2903     129172       127021          1833             69.29   \n",
       "200             2712     117996       134035          1822             73.54   \n",
       "400             2585     117734       127206          1701             74.77   \n",
       "600             2945     113251       122933          1692             72.61   \n",
       "800             2635     118593       108585          1609             67.45   \n",
       "...              ...        ...          ...           ...               ...   \n",
       "13004           7691     277299       112074          4474             25.04   \n",
       "13203           6844     287260       108856          4426             24.59   \n",
       "13405           6435     272547       104341          4152             25.13   \n",
       "13603           7148     257779       128502          4134             31.08   \n",
       "13807           5597     230732        86358          3654             23.63   \n",
       "\n",
       "            date  \n",
       "0     2016-01-01  \n",
       "200   2016-02-01  \n",
       "400   2016-03-01  \n",
       "600   2016-04-01  \n",
       "800   2016-05-01  \n",
       "...          ...  \n",
       "13004 2021-06-01  \n",
       "13203 2021-07-01  \n",
       "13405 2021-08-01  \n",
       "13603 2021-09-01  \n",
       "13807 2021-10-01  \n",
       "\n",
       "[588 rows x 11 columns]"
      ]
     },
     "execution_count": 44,
     "metadata": {},
     "output_type": "execute_result"
    }
   ],
   "source": [
    "games[\"day\"] = 1\n",
    "games[\"date\"] = pd.to_datetime(games[[\"Year\", \"Month\", \"day\"]])\n",
    "games = games.drop([\"Year\", \"Month\", \"day\"], axis=1)\n",
    "games"
   ]
  },
  {
   "cell_type": "code",
   "execution_count": 45,
   "metadata": {},
   "outputs": [
    {
     "ename": "KeyError",
     "evalue": "3",
     "output_type": "error",
     "traceback": [
      "\u001b[1;31m---------------------------------------------------------------------------\u001b[0m",
      "\u001b[1;31mKeyError\u001b[0m                                  Traceback (most recent call last)",
      "\u001b[1;32md:\\Ecole\\master\\twitch-to-the-moon\\.env\\lib\\site-packages\\pandas\\core\\indexes\\base.py\u001b[0m in \u001b[0;36mget_loc\u001b[1;34m(self, key, method, tolerance)\u001b[0m\n\u001b[0;32m   3360\u001b[0m             \u001b[1;32mtry\u001b[0m\u001b[1;33m:\u001b[0m\u001b[1;33m\u001b[0m\u001b[1;33m\u001b[0m\u001b[0m\n\u001b[1;32m-> 3361\u001b[1;33m                 \u001b[1;32mreturn\u001b[0m \u001b[0mself\u001b[0m\u001b[1;33m.\u001b[0m\u001b[0m_engine\u001b[0m\u001b[1;33m.\u001b[0m\u001b[0mget_loc\u001b[0m\u001b[1;33m(\u001b[0m\u001b[0mcasted_key\u001b[0m\u001b[1;33m)\u001b[0m\u001b[1;33m\u001b[0m\u001b[1;33m\u001b[0m\u001b[0m\n\u001b[0m\u001b[0;32m   3362\u001b[0m             \u001b[1;32mexcept\u001b[0m \u001b[0mKeyError\u001b[0m \u001b[1;32mas\u001b[0m \u001b[0merr\u001b[0m\u001b[1;33m:\u001b[0m\u001b[1;33m\u001b[0m\u001b[1;33m\u001b[0m\u001b[0m\n",
      "\u001b[1;32md:\\Ecole\\master\\twitch-to-the-moon\\.env\\lib\\site-packages\\pandas\\_libs\\index.pyx\u001b[0m in \u001b[0;36mpandas._libs.index.IndexEngine.get_loc\u001b[1;34m()\u001b[0m\n",
      "\u001b[1;32md:\\Ecole\\master\\twitch-to-the-moon\\.env\\lib\\site-packages\\pandas\\_libs\\index.pyx\u001b[0m in \u001b[0;36mpandas._libs.index.IndexEngine.get_loc\u001b[1;34m()\u001b[0m\n",
      "\u001b[1;32mpandas\\_libs\\hashtable_class_helper.pxi\u001b[0m in \u001b[0;36mpandas._libs.hashtable.PyObjectHashTable.get_item\u001b[1;34m()\u001b[0m\n",
      "\u001b[1;32mpandas\\_libs\\hashtable_class_helper.pxi\u001b[0m in \u001b[0;36mpandas._libs.hashtable.PyObjectHashTable.get_item\u001b[1;34m()\u001b[0m\n",
      "\u001b[1;31mKeyError\u001b[0m: 3",
      "\nThe above exception was the direct cause of the following exception:\n",
      "\u001b[1;31mKeyError\u001b[0m                                  Traceback (most recent call last)",
      "\u001b[1;32m~\\AppData\\Local\\Temp/ipykernel_16412/3078177202.py\u001b[0m in \u001b[0;36m<module>\u001b[1;34m\u001b[0m\n\u001b[1;32m----> 1\u001b[1;33m \u001b[0mgames\u001b[0m\u001b[1;33m[\u001b[0m\u001b[1;36m3\u001b[0m\u001b[1;33m]\u001b[0m\u001b[1;33m[\u001b[0m\u001b[1;34m\"Game\"\u001b[0m\u001b[1;33m]\u001b[0m\u001b[1;33m.\u001b[0m\u001b[0miloc\u001b[0m\u001b[1;33m[\u001b[0m\u001b[1;36m0\u001b[0m\u001b[1;33m]\u001b[0m\u001b[1;33m\u001b[0m\u001b[1;33m\u001b[0m\u001b[0m\n\u001b[0m",
      "\u001b[1;32md:\\Ecole\\master\\twitch-to-the-moon\\.env\\lib\\site-packages\\pandas\\core\\frame.py\u001b[0m in \u001b[0;36m__getitem__\u001b[1;34m(self, key)\u001b[0m\n\u001b[0;32m   3456\u001b[0m             \u001b[1;32mif\u001b[0m \u001b[0mself\u001b[0m\u001b[1;33m.\u001b[0m\u001b[0mcolumns\u001b[0m\u001b[1;33m.\u001b[0m\u001b[0mnlevels\u001b[0m \u001b[1;33m>\u001b[0m \u001b[1;36m1\u001b[0m\u001b[1;33m:\u001b[0m\u001b[1;33m\u001b[0m\u001b[1;33m\u001b[0m\u001b[0m\n\u001b[0;32m   3457\u001b[0m                 \u001b[1;32mreturn\u001b[0m \u001b[0mself\u001b[0m\u001b[1;33m.\u001b[0m\u001b[0m_getitem_multilevel\u001b[0m\u001b[1;33m(\u001b[0m\u001b[0mkey\u001b[0m\u001b[1;33m)\u001b[0m\u001b[1;33m\u001b[0m\u001b[1;33m\u001b[0m\u001b[0m\n\u001b[1;32m-> 3458\u001b[1;33m             \u001b[0mindexer\u001b[0m \u001b[1;33m=\u001b[0m \u001b[0mself\u001b[0m\u001b[1;33m.\u001b[0m\u001b[0mcolumns\u001b[0m\u001b[1;33m.\u001b[0m\u001b[0mget_loc\u001b[0m\u001b[1;33m(\u001b[0m\u001b[0mkey\u001b[0m\u001b[1;33m)\u001b[0m\u001b[1;33m\u001b[0m\u001b[1;33m\u001b[0m\u001b[0m\n\u001b[0m\u001b[0;32m   3459\u001b[0m             \u001b[1;32mif\u001b[0m \u001b[0mis_integer\u001b[0m\u001b[1;33m(\u001b[0m\u001b[0mindexer\u001b[0m\u001b[1;33m)\u001b[0m\u001b[1;33m:\u001b[0m\u001b[1;33m\u001b[0m\u001b[1;33m\u001b[0m\u001b[0m\n\u001b[0;32m   3460\u001b[0m                 \u001b[0mindexer\u001b[0m \u001b[1;33m=\u001b[0m \u001b[1;33m[\u001b[0m\u001b[0mindexer\u001b[0m\u001b[1;33m]\u001b[0m\u001b[1;33m\u001b[0m\u001b[1;33m\u001b[0m\u001b[0m\n",
      "\u001b[1;32md:\\Ecole\\master\\twitch-to-the-moon\\.env\\lib\\site-packages\\pandas\\core\\indexes\\base.py\u001b[0m in \u001b[0;36mget_loc\u001b[1;34m(self, key, method, tolerance)\u001b[0m\n\u001b[0;32m   3361\u001b[0m                 \u001b[1;32mreturn\u001b[0m \u001b[0mself\u001b[0m\u001b[1;33m.\u001b[0m\u001b[0m_engine\u001b[0m\u001b[1;33m.\u001b[0m\u001b[0mget_loc\u001b[0m\u001b[1;33m(\u001b[0m\u001b[0mcasted_key\u001b[0m\u001b[1;33m)\u001b[0m\u001b[1;33m\u001b[0m\u001b[1;33m\u001b[0m\u001b[0m\n\u001b[0;32m   3362\u001b[0m             \u001b[1;32mexcept\u001b[0m \u001b[0mKeyError\u001b[0m \u001b[1;32mas\u001b[0m \u001b[0merr\u001b[0m\u001b[1;33m:\u001b[0m\u001b[1;33m\u001b[0m\u001b[1;33m\u001b[0m\u001b[0m\n\u001b[1;32m-> 3363\u001b[1;33m                 \u001b[1;32mraise\u001b[0m \u001b[0mKeyError\u001b[0m\u001b[1;33m(\u001b[0m\u001b[0mkey\u001b[0m\u001b[1;33m)\u001b[0m \u001b[1;32mfrom\u001b[0m \u001b[0merr\u001b[0m\u001b[1;33m\u001b[0m\u001b[1;33m\u001b[0m\u001b[0m\n\u001b[0m\u001b[0;32m   3364\u001b[0m \u001b[1;33m\u001b[0m\u001b[0m\n\u001b[0;32m   3365\u001b[0m         \u001b[1;32mif\u001b[0m \u001b[0mis_scalar\u001b[0m\u001b[1;33m(\u001b[0m\u001b[0mkey\u001b[0m\u001b[1;33m)\u001b[0m \u001b[1;32mand\u001b[0m \u001b[0misna\u001b[0m\u001b[1;33m(\u001b[0m\u001b[0mkey\u001b[0m\u001b[1;33m)\u001b[0m \u001b[1;32mand\u001b[0m \u001b[1;32mnot\u001b[0m \u001b[0mself\u001b[0m\u001b[1;33m.\u001b[0m\u001b[0mhasnans\u001b[0m\u001b[1;33m:\u001b[0m\u001b[1;33m\u001b[0m\u001b[1;33m\u001b[0m\u001b[0m\n",
      "\u001b[1;31mKeyError\u001b[0m: 3"
     ]
    }
   ],
   "source": [
    "games[3][\"Game\"].iloc[0]"
   ]
  },
  {
   "cell_type": "markdown",
   "metadata": {},
   "source": [
    "for i,game in enumerate(games):\n",
    "    game.to_csv(\"data/\"+ games[i][\"Game\"].iloc[0] +\".csv\")"
   ]
  }
 ],
 "metadata": {
  "interpreter": {
   "hash": "9fd93541ce5ead8a2d008390b52c9b2a3126e1d73616ea8050a8e3f3dcd76c5d"
  },
  "kernelspec": {
   "display_name": "Python 3.9.5 64-bit ('.env': venv)",
   "language": "python",
   "name": "python3"
  },
  "language_info": {
   "codemirror_mode": {
    "name": "ipython",
    "version": 3
   },
   "file_extension": ".py",
   "mimetype": "text/x-python",
   "name": "python",
   "nbconvert_exporter": "python",
   "pygments_lexer": "ipython3",
   "version": "3.9.5"
  },
  "orig_nbformat": 4
 },
 "nbformat": 4,
 "nbformat_minor": 2
}

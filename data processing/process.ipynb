{
 "cells": [
  {
   "cell_type": "code",
   "execution_count": 1,
   "metadata": {},
   "outputs": [],
   "source": [
    "import pandas as pd\n",
    "import numpy as np"
   ]
  },
  {
   "cell_type": "code",
   "execution_count": 2,
   "metadata": {},
   "outputs": [],
   "source": [
    "game_df = pd.read_csv(\"raw_data/Twitch_game_data.csv\")\n",
    "global_df = pd.read_csv(\"raw_data/Twitch_global_data.csv\")\n",
    "streamers_df = pd.read_csv(\"raw_data/twitchdata-update.csv\")"
   ]
  },
  {
   "cell_type": "code",
   "execution_count": 3,
   "metadata": {},
   "outputs": [],
   "source": [
    "def dateToDateTime(dataframe):\n",
    "    df = dataframe.copy()\n",
    "    df[\"day\"] = 1\n",
    "    df = df.set_index(pd.to_datetime(df[[\"year\", \"Month\", \"day\"]]))\n",
    "    df = df.drop([\"year\", \"Month\", \"day\"], axis=1)\n",
    "    return df"
   ]
  },
  {
   "cell_type": "markdown",
   "metadata": {},
   "source": [
    "## Global viewers chart"
   ]
  },
  {
   "cell_type": "code",
   "execution_count": 4,
   "metadata": {},
   "outputs": [],
   "source": [
    "Viewers = global_df[[\"year\",\"Month\",\"Avg_viewers\"]]"
   ]
  },
  {
   "cell_type": "code",
   "execution_count": 5,
   "metadata": {},
   "outputs": [],
   "source": [
    "Viewers = dateToDateTime(Viewers)"
   ]
  },
  {
   "cell_type": "code",
   "execution_count": 6,
   "metadata": {},
   "outputs": [],
   "source": [
    "Viewers.to_csv(\"data/global_viewers.csv\")"
   ]
  },
  {
   "cell_type": "markdown",
   "metadata": {},
   "source": [
    "## Games views for ridgeplot"
   ]
  },
  {
   "cell_type": "code",
   "execution_count": 7,
   "metadata": {},
   "outputs": [],
   "source": [
    "non_games= [\"Just Chatting\",\"Talk Shows & Podcasts\",\"Poker\",\"Music\",\"Creative\",\"Pools, Hot Tubs, and Beaches\",\"Science & Technology\",\"Special Events\",\"Art\",\"Politics\",\"Travel & Outdoors\",\"Sports\",\"ASMR\",\"Food & Drink\",\"Makers & Crafting\",\"Beauty & Body Art\",\"Software and Game Development\"]\n",
    "\n",
    "for ng in non_games:\n",
    "\n",
    "    game_df.drop(game_df[game_df[\"Game\"] == ng].index, inplace=True)\n"
   ]
  },
  {
   "cell_type": "code",
   "execution_count": 8,
   "metadata": {},
   "outputs": [],
   "source": [
    "game_avg = game_df.copy()\n",
    "game_avg.drop(columns=[\"Rank\",\"Hours_watched\",\"Hours_Streamed\",\"Peak_viewers\",\"Peak_channels\",\"Streamers\",\"Avg_channels\",\"Avg_viewer_ratio\"] ,inplace=True)"
   ]
  },
  {
   "cell_type": "code",
   "execution_count": 9,
   "metadata": {},
   "outputs": [],
   "source": [
    "game_avg[\"day\"] = 1\n",
    "game_avg[\"date\"] = pd.to_datetime(game_avg[[\"Year\", \"Month\", \"day\"]])\n",
    "game_avg = game_avg.drop([\"Year\", \"Month\", \"day\"], axis=1)"
   ]
  },
  {
   "cell_type": "code",
   "execution_count": 10,
   "metadata": {},
   "outputs": [],
   "source": [
    "top_games = game_avg.groupby(['Game'])['Avg_viewers'].sum().sort_values(ascending=False)[:10].index.to_list()"
   ]
  },
  {
   "cell_type": "code",
   "execution_count": 11,
   "metadata": {},
   "outputs": [],
   "source": [
    "games = []\n",
    "\n",
    "for game in top_games:\n",
    "    games.append(game_avg[game_avg[\"Game\"] == game])"
   ]
  },
  {
   "cell_type": "code",
   "execution_count": 12,
   "metadata": {},
   "outputs": [
    {
     "name": "stderr",
     "output_type": "stream",
     "text": [
      "d:\\Ecole\\master\\twitch-to-the-moon\\.env\\lib\\site-packages\\pandas\\core\\frame.py:5039: SettingWithCopyWarning: \n",
      "A value is trying to be set on a copy of a slice from a DataFrame\n",
      "\n",
      "See the caveats in the documentation: https://pandas.pydata.org/pandas-docs/stable/user_guide/indexing.html#returning-a-view-versus-a-copy\n",
      "  return super().rename(\n",
      "d:\\Ecole\\master\\twitch-to-the-moon\\.env\\lib\\site-packages\\pandas\\core\\frame.py:4906: SettingWithCopyWarning: \n",
      "A value is trying to be set on a copy of a slice from a DataFrame\n",
      "\n",
      "See the caveats in the documentation: https://pandas.pydata.org/pandas-docs/stable/user_guide/indexing.html#returning-a-view-versus-a-copy\n",
      "  return super().drop(\n"
     ]
    }
   ],
   "source": [
    "for g in games:\n",
    "    g.rename(columns={\"Avg_viewers\" : g.iloc[0][\"Game\"]},inplace=True)\n",
    "    g.drop(columns=\"Game\", inplace=True)"
   ]
  },
  {
   "cell_type": "code",
   "execution_count": 13,
   "metadata": {},
   "outputs": [],
   "source": [
    "from functools import reduce\n",
    "\n",
    "pd.concat(games)\n",
    "\n",
    "top_games_avg_viewers = reduce(lambda  left,right: pd.merge(left,right, on=\"date\", how=\"outer\"), games).fillna(0)"
   ]
  },
  {
   "cell_type": "code",
   "execution_count": 14,
   "metadata": {},
   "outputs": [],
   "source": [
    "top_games_avg_viewers.to_csv(\"data/top_games_viewers.csv\")"
   ]
  },
  {
   "cell_type": "markdown",
   "metadata": {},
   "source": [
    "for i,game in enumerate(games):\n",
    "    game.to_csv(\"data/\"+ games[i][\"Game\"].iloc[0] +\".csv\")"
   ]
  },
  {
   "cell_type": "markdown",
   "metadata": {},
   "source": [
    "## Average viewers of all games"
   ]
  },
  {
   "cell_type": "code",
   "execution_count": 15,
   "metadata": {},
   "outputs": [],
   "source": [
    "all_games = game_avg.groupby(['Game'])['Avg_viewers'].sum().sort_values(ascending=False).index.to_list()\n",
    "\n",
    "games = []\n",
    "\n",
    "for game in all_games:\n",
    "    games.append(game_avg[game_avg[\"Game\"] == game])"
   ]
  },
  {
   "cell_type": "code",
   "execution_count": 16,
   "metadata": {},
   "outputs": [],
   "source": [
    "for g in games:\n",
    "    g.rename(columns={\"Avg_viewers\" : g.iloc[0][\"Game\"]},inplace=True)\n",
    "    g.drop(columns=\"Game\", inplace=True)\n"
   ]
  },
  {
   "cell_type": "code",
   "execution_count": 17,
   "metadata": {},
   "outputs": [],
   "source": [
    "all_games_avg_view = reduce(lambda  left,right: pd.merge(left,right, on=\"date\", how=\"outer\"), games).fillna(0)"
   ]
  },
  {
   "cell_type": "code",
   "execution_count": 18,
   "metadata": {},
   "outputs": [],
   "source": [
    "all_games_avg_view.to_csv(\"data/all_games_viewers.csv\")"
   ]
  },
  {
   "cell_type": "markdown",
   "metadata": {},
   "source": [
    "## Domination of the Game"
   ]
  },
  {
   "cell_type": "code",
   "execution_count": 25,
   "metadata": {},
   "outputs": [],
   "source": [
    "global_avg_views = all_games_avg_view.drop(columns=\"date\").sum(axis=1)"
   ]
  },
  {
   "cell_type": "code",
   "execution_count": 27,
   "metadata": {},
   "outputs": [],
   "source": [
    "all_games_avg_view[\"all_games\"] = global_avg_views"
   ]
  },
  {
   "cell_type": "code",
   "execution_count": 45,
   "metadata": {},
   "outputs": [
    {
     "name": "stderr",
     "output_type": "stream",
     "text": [
      "C:\\Users\\ma2s\\AppData\\Local\\Temp/ipykernel_5496/405434939.py:6: PerformanceWarning: DataFrame is highly fragmented.  This is usually the result of calling `frame.insert` many times, which has poor performance.  Consider joining all columns at once using pd.concat(axis=1) instead.  To get a de-fragmented frame, use `newframe = frame.copy()`\n",
      "  all_games_domination[c] = (all_games_avg_view[c] / all_games_avg_view[\"all_games\"])*100\n",
      "C:\\Users\\ma2s\\AppData\\Local\\Temp/ipykernel_5496/405434939.py:4: PerformanceWarning: DataFrame is highly fragmented.  This is usually the result of calling `frame.insert` many times, which has poor performance.  Consider joining all columns at once using pd.concat(axis=1) instead.  To get a de-fragmented frame, use `newframe = frame.copy()`\n",
      "  all_games_domination[c] = all_games_avg_view[c]\n"
     ]
    }
   ],
   "source": [
    "all_games_domination = pd.DataFrame()\n",
    "for c in all_games_avg_view.columns:\n",
    "    if c in [\"date\",\"all_games\"]:\n",
    "        all_games_domination[c] = all_games_avg_view[c]\n",
    "    else:\n",
    "        all_games_domination[c] = (all_games_avg_view[c] / all_games_avg_view[\"all_games\"])*100"
   ]
  },
  {
   "cell_type": "code",
   "execution_count": 47,
   "metadata": {},
   "outputs": [],
   "source": [
    "all_games_domination.drop(columns=\"all_games\", inplace=True)"
   ]
  },
  {
   "cell_type": "code",
   "execution_count": 48,
   "metadata": {},
   "outputs": [],
   "source": [
    "all_games_domination.to_csv(\"data/all_games_domination.csv\")"
   ]
  },
  {
   "cell_type": "markdown",
   "metadata": {},
   "source": [
    "## Radar chart metrics"
   ]
  }
 ],
 "metadata": {
  "interpreter": {
   "hash": "9fd93541ce5ead8a2d008390b52c9b2a3126e1d73616ea8050a8e3f3dcd76c5d"
  },
  "kernelspec": {
   "display_name": "Python 3.9.5 64-bit ('.env': venv)",
   "language": "python",
   "name": "python3"
  },
  "language_info": {
   "codemirror_mode": {
    "name": "ipython",
    "version": 3
   },
   "file_extension": ".py",
   "mimetype": "text/x-python",
   "name": "python",
   "nbconvert_exporter": "python",
   "pygments_lexer": "ipython3",
   "version": "3.8.2"
  },
  "orig_nbformat": 4
 },
 "nbformat": 4,
 "nbformat_minor": 2
}

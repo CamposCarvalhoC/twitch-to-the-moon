{
 "cells": [
  {
   "cell_type": "code",
   "execution_count": null,
   "metadata": {},
   "outputs": [],
   "source": [
    "import pandas as pd\n",
    "import numpy as np"
   ]
  },
  {
   "cell_type": "code",
   "execution_count": null,
   "metadata": {},
   "outputs": [],
   "source": [
    "game_df = pd.read_csv(\"raw_data/Twitch_game_data.csv\")\n",
    "global_df = pd.read_csv(\"raw_data/Twitch_global_data.csv\")\n",
    "streamers_df = pd.read_csv(\"raw_data/twitchdata-update.csv\")"
   ]
  },
  {
   "cell_type": "code",
   "execution_count": null,
   "metadata": {},
   "outputs": [],
   "source": [
    "def dateToDateTime(dataframe):\n",
    "    df = dataframe.copy()\n",
    "    df[\"day\"] = 1\n",
    "    df = df.set_index(pd.to_datetime(df[[\"year\", \"Month\", \"day\"]]))\n",
    "    df = df.drop([\"year\", \"Month\", \"day\"], axis=1)\n",
    "    return df"
   ]
  },
  {
   "cell_type": "markdown",
   "metadata": {},
   "source": [
    "## Global viewers chart"
   ]
  },
  {
   "cell_type": "code",
   "execution_count": null,
   "metadata": {},
   "outputs": [],
   "source": [
    "Viewers = global_df[[\"year\",\"Month\",\"Avg_viewers\"]]"
   ]
  },
  {
   "cell_type": "code",
   "execution_count": null,
   "metadata": {},
   "outputs": [],
   "source": [
    "Viewers = dateToDateTime(Viewers)"
   ]
  },
  {
   "cell_type": "code",
   "execution_count": null,
   "metadata": {},
   "outputs": [],
   "source": [
    "Viewers.to_csv(\"data/global_viewers.csv\")"
   ]
  },
  {
   "cell_type": "markdown",
   "metadata": {},
   "source": [
    "## Games views for ridgeplot"
   ]
  },
  {
   "cell_type": "code",
   "execution_count": null,
   "metadata": {},
   "outputs": [],
   "source": [
    "non_games= [\"Just Chatting\",\"Talk Shows & Podcasts\",\"Poker\",\"Music\",\"Creative\",\"Pools, Hot Tubs, and Beaches\",\"Science & Technology\",\"Special Events\",\"Art\",\"Politics\",\"Travel & Outdoors\",\"Sports\",\"ASMR\",\"Food & Drink\",\"Makers & Crafting\",\"Beauty & Body Art\",\"Software and Game Development\"]\n",
    "\n",
    "for ng in non_games:\n",
    "\n",
    "    game_df.drop(game_df[game_df[\"Game\"] == ng].index, inplace=True)\n"
   ]
  },
  {
   "cell_type": "code",
   "execution_count": null,
   "metadata": {},
   "outputs": [],
   "source": [
    "game_avg = game_df.copy()\n",
    "game_avg.drop(columns=[\"Rank\",\"Hours_watched\",\"Hours_Streamed\",\"Peak_viewers\",\"Peak_channels\",\"Streamers\",\"Avg_channels\",\"Avg_viewer_ratio\"] ,inplace=True)\n",
    "game_avg[\"day\"] = 1\n",
    "game_avg[\"date\"] = pd.to_datetime(game_avg[[\"Year\", \"Month\", \"day\"]])\n",
    "game_avg = game_avg.drop([\"Year\", \"Month\", \"day\"], axis=1)"
   ]
  },
  {
   "cell_type": "code",
   "execution_count": null,
   "metadata": {},
   "outputs": [],
   "source": [
    "top_games = game_avg.groupby(['Game'])['Avg_viewers'].sum().sort_values(ascending=False)[:10].index.to_list()"
   ]
  },
  {
   "cell_type": "code",
   "execution_count": null,
   "metadata": {},
   "outputs": [],
   "source": [
    "games = []\n",
    "\n",
    "for game in top_games:\n",
    "    games.append(game_avg[game_avg[\"Game\"] == game])"
   ]
  },
  {
   "cell_type": "code",
   "execution_count": null,
   "metadata": {},
   "outputs": [],
   "source": [
    "for g in games:\n",
    "    g.rename(columns={\"Avg_viewers\" : g.iloc[0][\"Game\"]},inplace=True)\n",
    "    g.drop(columns=\"Game\", inplace=True)"
   ]
  },
  {
   "cell_type": "code",
   "execution_count": null,
   "metadata": {},
   "outputs": [],
   "source": [
    "from functools import reduce\n",
    "\n",
    "pd.concat(games)\n",
    "\n",
    "top_games_avg_viewers = reduce(lambda  left,right: pd.merge(left,right, on=\"date\", how=\"outer\"), games).fillna(0)"
   ]
  },
  {
   "cell_type": "code",
   "execution_count": null,
   "metadata": {},
   "outputs": [],
   "source": [
    "top_games_avg_viewers.to_csv(\"data/top_games_viewers.csv\")"
   ]
  },
  {
   "cell_type": "markdown",
   "metadata": {},
   "source": [
    "for i,game in enumerate(games):\n",
    "    game.to_csv(\"data/\"+ games[i][\"Game\"].iloc[0] +\".csv\")"
   ]
  },
  {
   "cell_type": "markdown",
   "metadata": {},
   "source": [
    "## Average viewers of all games"
   ]
  },
  {
   "cell_type": "code",
   "execution_count": null,
   "metadata": {},
   "outputs": [],
   "source": [
    "all_games = game_avg.groupby(['Game'])['Avg_viewers'].sum().sort_values(ascending=False).index.to_list()\n",
    "\n",
    "games = []\n",
    "\n",
    "for game in all_games:\n",
    "    games.append(game_avg[game_avg[\"Game\"] == game])"
   ]
  },
  {
   "cell_type": "code",
   "execution_count": null,
   "metadata": {},
   "outputs": [],
   "source": [
    "for g in games:\n",
    "    g.rename(columns={\"Avg_viewers\" : g.iloc[0][\"Game\"]},inplace=True)\n",
    "    g.drop(columns=\"Game\", inplace=True)\n"
   ]
  },
  {
   "cell_type": "code",
   "execution_count": null,
   "metadata": {},
   "outputs": [],
   "source": [
    "all_games_avg_view = reduce(lambda  left,right: pd.merge(left,right, on=\"date\", how=\"outer\"), games).fillna(0)"
   ]
  },
  {
   "cell_type": "code",
   "execution_count": null,
   "metadata": {},
   "outputs": [],
   "source": [
    "all_games_avg_view.to_csv(\"data/all_games_viewers.csv\")"
   ]
  },
  {
   "cell_type": "markdown",
   "metadata": {},
   "source": [
    "## Radar chart metrics"
   ]
  },
  {
   "cell_type": "markdown",
   "metadata": {},
   "source": [
    "### total views"
   ]
  },
  {
   "cell_type": "code",
   "execution_count": null,
   "metadata": {},
   "outputs": [],
   "source": [
    "radar_total = all_games_avg_view.sum(axis=0)"
   ]
  },
  {
   "cell_type": "code",
   "execution_count": null,
   "metadata": {},
   "outputs": [],
   "source": [
    "radar_total.to_csv(\"data/radar_total_views.csv\")"
   ]
  },
  {
   "cell_type": "markdown",
   "metadata": {},
   "source": [
    "### mean views"
   ]
  },
  {
   "cell_type": "code",
   "execution_count": null,
   "metadata": {},
   "outputs": [],
   "source": [
    "radar_avg = all_games_avg_view.sum(axis=0)\n",
    "\n",
    "radar_avg.to_csv(\"data/radar_avg_views.csv\")"
   ]
  },
  {
   "cell_type": "markdown",
   "metadata": {},
   "source": [
    "### streamers"
   ]
  },
  {
   "cell_type": "code",
   "execution_count": null,
   "metadata": {},
   "outputs": [],
   "source": [
    "game_stream = game_df.copy()\n",
    "game_stream.drop(columns=[\"Rank\",\"Hours_watched\",\"Hours_Streamed\",\"Peak_viewers\",\"Peak_channels\",\"Avg_viewers\",\"Avg_channels\",\"Avg_viewer_ratio\"] ,inplace=True)\n",
    "\n",
    "game_stream[\"day\"] = 1\n",
    "game_stream[\"date\"] = pd.to_datetime(game_stream[[\"Year\", \"Month\", \"day\"]])\n",
    "game_stream = game_stream.drop([\"Year\", \"Month\", \"day\"], axis=1)\n",
    "\n",
    "all_games = game_stream.groupby(['Game'])['Streamers'].sum().sort_values(ascending=False).index.to_list()\n",
    "\n",
    "games = []\n",
    "\n",
    "for game in all_games:\n",
    "    games.append(game_stream[game_stream[\"Game\"] == game])\n",
    "\n",
    "for g in games:\n",
    "    g.rename(columns={\"Streamers\" : g.iloc[0][\"Game\"]},inplace=True)\n",
    "    g.drop(columns=\"Game\", inplace=True)\n",
    "\n",
    "all_games_streamers = reduce(lambda  left,right: pd.merge(left,right, on=\"date\", how=\"outer\"), games).fillna(0)"
   ]
  },
  {
   "cell_type": "code",
   "execution_count": null,
   "metadata": {},
   "outputs": [],
   "source": [
    "mean_streamers = all_games_streamers.mean()\n",
    "\n",
    "mean_streamers.to_csv(\"data/radar_total_streamers.csv\")"
   ]
  },
  {
   "cell_type": "markdown",
   "metadata": {},
   "source": [
    "### hours streamed / hours watched"
   ]
  },
  {
   "cell_type": "code",
   "execution_count": null,
   "metadata": {},
   "outputs": [],
   "source": [
    "game_streamed = game_df.copy()\n",
    "game_streamed.drop(columns=[\"Rank\",\"Hours_watched\",\"Streamers\",\"Peak_viewers\",\"Peak_channels\",\"Avg_viewers\",\"Avg_channels\",\"Avg_viewer_ratio\"] ,inplace=True)\n",
    "\n",
    "game_streamed[\"day\"] = 1\n",
    "game_streamed[\"date\"] = pd.to_datetime(game_streamed[[\"Year\", \"Month\", \"day\"]])\n",
    "game_streamed = game_streamed.drop([\"Year\", \"Month\", \"day\"], axis=1)\n",
    "\n",
    "all_games = game_streamed.groupby(['Game'])['Hours_Streamed'].sum().sort_values(ascending=False).index.to_list()\n",
    "\n",
    "games = []\n",
    "\n",
    "for game in all_games:\n",
    "    games.append(game_streamed[game_streamed[\"Game\"] == game])\n",
    "\n",
    "for g in games:\n",
    "    g.rename(columns={\"Hours_Streamed\" : g.iloc[0][\"Game\"]},inplace=True)\n",
    "    g.drop(columns=\"Game\", inplace=True)\n",
    "\n",
    "all_games_streamed = reduce(lambda  left,right: pd.merge(left,right, on=\"date\", how=\"outer\"), games).fillna(0)"
   ]
  },
  {
   "cell_type": "code",
   "execution_count": 73,
   "metadata": {},
   "outputs": [],
   "source": [
    "all_games_streamedcopy = all_games_streamed.drop(columns=\"date\").copy()\n",
    "\n",
    "streamed = all_games_streamedcopy.applymap(lambda x : int(x.split()[0]) if not x == 0 else x).sum()\n",
    "\n"
   ]
  },
  {
   "cell_type": "code",
   "execution_count": 62,
   "metadata": {},
   "outputs": [
    {
     "name": "stderr",
     "output_type": "stream",
     "text": [
      "e:\\Technologie\\Programming\\twitch-to-the-moon\\.venv\\lib\\site-packages\\pandas\\core\\frame.py:5039: SettingWithCopyWarning: \n",
      "A value is trying to be set on a copy of a slice from a DataFrame\n",
      "\n",
      "See the caveats in the documentation: https://pandas.pydata.org/pandas-docs/stable/user_guide/indexing.html#returning-a-view-versus-a-copy\n",
      "  return super().rename(\n",
      "e:\\Technologie\\Programming\\twitch-to-the-moon\\.venv\\lib\\site-packages\\pandas\\core\\frame.py:4906: SettingWithCopyWarning: \n",
      "A value is trying to be set on a copy of a slice from a DataFrame\n",
      "\n",
      "See the caveats in the documentation: https://pandas.pydata.org/pandas-docs/stable/user_guide/indexing.html#returning-a-view-versus-a-copy\n",
      "  return super().drop(\n"
     ]
    }
   ],
   "source": [
    "game_watched = game_df.copy()\n",
    "game_watched.drop(columns=[\"Rank\",\"Hours_Streamed\",\"Streamers\",\"Peak_viewers\",\"Peak_channels\",\"Avg_viewers\",\"Avg_channels\",\"Avg_viewer_ratio\"] ,inplace=True)\n",
    "\n",
    "game_watched[\"day\"] = 1\n",
    "game_watched[\"date\"] = pd.to_datetime(game_watched[[\"Year\", \"Month\", \"day\"]])\n",
    "game_watched = game_watched.drop([\"Year\", \"Month\", \"day\"], axis=1)\n",
    "\n",
    "all_games = game_watched.groupby(['Game'])['Hours_watched'].sum().sort_values(ascending=False).index.to_list()\n",
    "\n",
    "games = []\n",
    "\n",
    "for game in all_games:\n",
    "    games.append(game_watched[game_watched[\"Game\"] == game])\n",
    "\n",
    "for g in games:\n",
    "    g.rename(columns={\"Hours_watched\" : g.iloc[0][\"Game\"]},inplace=True)\n",
    "    g.drop(columns=\"Game\", inplace=True)\n",
    "\n",
    "all_games_watched = reduce(lambda  left,right: pd.merge(left,right, on=\"date\", how=\"outer\"), games).fillna(0)"
   ]
  },
  {
   "cell_type": "code",
   "execution_count": 72,
   "metadata": {},
   "outputs": [],
   "source": [
    "watched = all_games_watched.drop(columns=\"date\").applymap(lambda x : int(x)).sum()"
   ]
  },
  {
   "cell_type": "code",
   "execution_count": 85,
   "metadata": {},
   "outputs": [],
   "source": [
    "streamed.sort_index(ascending=False, inplace=True)\n",
    "watched.sort_index(ascending=False, inplace=True)\n",
    "\n",
    "ratio_watch = watched / streamed"
   ]
  },
  {
   "cell_type": "code",
   "execution_count": 86,
   "metadata": {},
   "outputs": [
    {
     "data": {
      "text/plain": [
       "theHunter: Call of the Wild     29.725549\n",
       "some some convenience store     73.217168\n",
       "skribbl.io                      31.476024\n",
       "rFactor 2                      184.988249\n",
       "osu!                             7.823594\n",
       "                                  ...    \n",
       "<U+014C>kami                     9.419343\n",
       "7 Days to Die                   11.276369\n",
       "60 Seconds!                    307.787250\n",
       "60 Parsecs!                    283.710766\n",
       ".hack//G.U. Last Recode          4.122469\n",
       "Length: 1743, dtype: float64"
      ]
     },
     "execution_count": 86,
     "metadata": {},
     "output_type": "execute_result"
    }
   ],
   "source": [
    "ratio_watch.to_csv(\"data/radar_ratio_watch.csv\")"
   ]
  },
  {
   "cell_type": "markdown",
   "metadata": {},
   "source": [
    "## Domination of the Game"
   ]
  },
  {
   "cell_type": "code",
   "execution_count": null,
   "metadata": {},
   "outputs": [],
   "source": [
    "global_avg_views = all_games_avg_view.drop(columns=\"date\").sum(axis=1)"
   ]
  },
  {
   "cell_type": "code",
   "execution_count": null,
   "metadata": {},
   "outputs": [],
   "source": [
    "all_games_avg_view[\"all_games\"] = global_avg_views"
   ]
  },
  {
   "cell_type": "code",
   "execution_count": null,
   "metadata": {},
   "outputs": [],
   "source": [
    "all_games_domination = pd.DataFrame()\n",
    "for c in all_games_avg_view.columns:\n",
    "    if c in [\"date\",\"all_games\"]:\n",
    "        all_games_domination[c] = all_games_avg_view[c]\n",
    "    else:\n",
    "        all_games_domination[c] = (all_games_avg_view[c] / all_games_avg_view[\"all_games\"])*100"
   ]
  },
  {
   "cell_type": "code",
   "execution_count": null,
   "metadata": {},
   "outputs": [],
   "source": [
    "all_games_domination.drop(columns=\"all_games\", inplace=True)"
   ]
  },
  {
   "cell_type": "code",
   "execution_count": null,
   "metadata": {},
   "outputs": [],
   "source": [
    "all_games_domination.to_csv(\"data/all_games_domination.csv\")"
   ]
  }
 ],
 "metadata": {
  "interpreter": {
   "hash": "9fd93541ce5ead8a2d008390b52c9b2a3126e1d73616ea8050a8e3f3dcd76c5d"
  },
  "kernelspec": {
   "display_name": "Python 3.9.5 64-bit ('.env': venv)",
   "language": "python",
   "name": "python3"
  },
  "language_info": {
   "codemirror_mode": {
    "name": "ipython",
    "version": 3
   },
   "file_extension": ".py",
   "mimetype": "text/x-python",
   "name": "python",
   "nbconvert_exporter": "python",
   "pygments_lexer": "ipython3",
   "version": "3.8.2"
  },
  "orig_nbformat": 4
 },
 "nbformat": 4,
 "nbformat_minor": 2
}

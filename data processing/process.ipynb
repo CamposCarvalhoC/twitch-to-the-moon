{
 "cells": [
  {
   "cell_type": "code",
   "execution_count": null,
   "metadata": {},
   "outputs": [],
   "source": [
    "import pandas as pd\n",
    "import numpy as np"
   ]
  },
  {
   "cell_type": "code",
   "execution_count": null,
   "metadata": {},
   "outputs": [],
   "source": [
    "game_df = pd.read_csv(\"raw_data/Twitch_game_data.csv\")\n",
    "global_df = pd.read_csv(\"raw_data/Twitch_global_data.csv\")\n",
    "streamers_df = pd.read_csv(\"raw_data/twitchdata-update.csv\")"
   ]
  },
  {
   "cell_type": "markdown",
   "metadata": {},
   "source": [
    "## Global viewers chart"
   ]
  },
  {
   "cell_type": "code",
   "execution_count": null,
   "metadata": {},
   "outputs": [],
   "source": [
    "Viewers = global_df[[\"year\",\"Month\",\"Avg_viewers\"]]\n",
    "Viewers[\"day\"] = 1"
   ]
  },
  {
   "cell_type": "code",
   "execution_count": 125,
   "metadata": {},
   "outputs": [],
   "source": [
    "Viewers = Viewers.set_index(pd.to_datetime(Viewers[[\"year\", \"Month\", \"day\"]]))\n",
    "Viewers = Viewers.drop([\"year\", \"Month\", \"day\"], axis=1)"
   ]
  },
  {
   "cell_type": "code",
   "execution_count": 126,
   "metadata": {},
   "outputs": [],
   "source": [
    "Viewers.to_csv(\"data/global_viewers.csv\")"
   ]
  },
  {
   "cell_type": "markdown",
   "metadata": {},
   "source": [
    "## Games views for ridgeplot"
   ]
  },
  {
   "cell_type": "code",
   "execution_count": null,
   "metadata": {},
   "outputs": [],
   "source": [
    "game_df.drop(game_df[game_df[\"Game\"] == \"Just Chatting\"].index, inplace=True)"
   ]
  },
  {
   "cell_type": "code",
   "execution_count": null,
   "metadata": {},
   "outputs": [],
   "source": [
    "top_games = game_df.groupby(['Game'])['Avg_viewers'].sum().sort_values(ascending=False)[:10].index.to_list()"
   ]
  },
  {
   "cell_type": "code",
   "execution_count": null,
   "metadata": {},
   "outputs": [],
   "source": [
    "games = []\n",
    "\n",
    "for game in top_games:\n",
    "    games.append(game_df[game_df[\"Game\"] == game])\n",
    "\n"
   ]
  },
  {
   "cell_type": "code",
   "execution_count": 114,
   "metadata": {},
   "outputs": [
    {
     "data": {
      "text/plain": [
       "'Counter-Strike: Global Offensive'"
      ]
     },
     "execution_count": 114,
     "metadata": {},
     "output_type": "execute_result"
    }
   ],
   "source": [
    "games[3][\"Game\"].iloc[0]"
   ]
  },
  {
   "cell_type": "code",
   "execution_count": 115,
   "metadata": {},
   "outputs": [],
   "source": [
    "for i,game in enumerate(games):\n",
    "    game.to_csv(\"data/\"+ games[i][\"Game\"].iloc[0] +\".csv\")"
   ]
  }
 ],
 "metadata": {
  "interpreter": {
   "hash": "9fd93541ce5ead8a2d008390b52c9b2a3126e1d73616ea8050a8e3f3dcd76c5d"
  },
  "kernelspec": {
   "display_name": "Python 3.9.5 64-bit ('.env': venv)",
   "language": "python",
   "name": "python3"
  },
  "language_info": {
   "codemirror_mode": {
    "name": "ipython",
    "version": 3
   },
   "file_extension": ".py",
   "mimetype": "text/x-python",
   "name": "python",
   "nbconvert_exporter": "python",
   "pygments_lexer": "ipython3",
   "version": "3.9.5"
  },
  "orig_nbformat": 4
 },
 "nbformat": 4,
 "nbformat_minor": 2
}
